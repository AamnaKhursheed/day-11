{
 "cells": [
  {
   "cell_type": "code",
   "execution_count": 6,
   "metadata": {},
   "outputs": [
    {
     "name": "stdout",
     "output_type": "stream",
     "text": [
      "\n",
      "x =  [12  2 10  4  5]\n",
      "\n",
      "y =  [ 6 17  2  8  4]\n",
      "The elements that are both in x and y: [2 4]\n",
      "The elements that are in x that are not in y: [ 5 10 12]\n",
      "All the elements of x and y: [ 2  4  5  6  8 10 12 17]\n"
     ]
    }
   ],
   "source": [
    "import numpy as np\n",
    "\n",
    "x = np.array([12,2,10,4,5])\n",
    "\n",
    "y = np.array([6,17,2,8,4])\n",
    "\n",
    "# We print x\n",
    "print()\n",
    "print('x = ', x)\n",
    "\n",
    "# We print y\n",
    "print()\n",
    "print('y = ', y)\n",
    "\n",
    "print('The elements that are both in x and y:', np.intersect1d(x,y))\n",
    "\n",
    "print('The elements that are in x that are not in y:', np.setdiff1d(x,y))\n",
    "\n",
    "print('All the elements of x and y:',np.union1d(x,y))"
   ]
  },
  {
   "cell_type": "code",
   "execution_count": null,
   "metadata": {},
   "outputs": [],
   "source": []
  }
 ],
 "metadata": {
  "kernelspec": {
   "display_name": "Python 3",
   "language": "python",
   "name": "python3"
  },
  "language_info": {
   "codemirror_mode": {
    "name": "ipython",
    "version": 3
   },
   "file_extension": ".py",
   "mimetype": "text/x-python",
   "name": "python",
   "nbconvert_exporter": "python",
   "pygments_lexer": "ipython3",
   "version": "3.7.4"
  }
 },
 "nbformat": 4,
 "nbformat_minor": 2
}
